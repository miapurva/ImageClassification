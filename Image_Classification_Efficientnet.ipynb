{
 "cells": [
  {
   "cell_type": "markdown",
   "metadata": {
    "colab_type": "text",
    "id": "62nKd44GFeDV"
   },
   "source": [
    "### Image Classification using Mobilenet on CIFAR10 dataset\n",
    "\n",
    "The images in CIFAR-10 are of size 3x32x32, i.e. 3-channel color images of 32x32 pixels in size.\n",
    "The classes/labels are: ‘airplane’, ‘automobile’, ‘bird’, ‘cat’, ‘deer’, ‘dog’, ‘frog’, ‘horse’, ‘ship’, ‘truck’."
   ]
  },
  {
   "cell_type": "code",
   "execution_count": 2,
   "metadata": {
    "colab": {
     "base_uri": "https://localhost:8080/",
     "height": 377
    },
    "colab_type": "code",
    "id": "skGnnLaVY1p6",
    "outputId": "1d782feb-4aa0-4ae5-e5a6-a599c18affd8"
   },
   "outputs": [
    {
     "name": "stdout",
     "output_type": "stream",
     "text": [
      "Requirement already satisfied: torch in /home/yutika/.local/lib/python3.7/site-packages (1.5.1)\n",
      "Requirement already satisfied: future in /home/yutika/anaconda3/lib/python3.7/site-packages (from torch) (0.18.2)\n",
      "Requirement already satisfied: numpy in /home/yutika/.local/lib/python3.7/site-packages (from torch) (1.19.0)\n",
      "Requirement already satisfied: efficientnet_pytorch in /home/yutika/.local/lib/python3.7/site-packages (0.6.3)\n",
      "Requirement already satisfied: torch in /home/yutika/.local/lib/python3.7/site-packages (from efficientnet_pytorch) (1.5.1)\n",
      "Requirement already satisfied: future in /home/yutika/anaconda3/lib/python3.7/site-packages (from torch->efficientnet_pytorch) (0.18.2)\n",
      "Requirement already satisfied: numpy in /home/yutika/.local/lib/python3.7/site-packages (from torch->efficientnet_pytorch) (1.19.0)\n",
      "Files already downloaded and verified\n",
      "Files already downloaded and verified\n",
      "['airplane', 'automobile', 'bird', 'cat', 'deer', 'dog', 'frog', 'horse', 'ship', 'truck']\n"
     ]
    }
   ],
   "source": [
    "!pip install torch\n",
    "!pip install efficientnet_pytorch\n",
    "get_ipython().run_line_magic('matplotlib', 'inline')\n",
    "import matplotlib.pyplot as plt\n",
    "import numpy as np\n",
    "import torch\n",
    "from torch import nn\n",
    "from torch import optim\n",
    "import torch.nn.functional as F\n",
    "import torchvision\n",
    "from torchvision import datasets, transforms, models\n",
    "from efficientnet_pytorch import EfficientNet\n",
    "\n",
    "#Loading the dataset\n",
    "transform = transforms.Compose([transforms.ToTensor(),transforms.Normalize((0.5,0.5,0.5), (0.5, 0.5, 0.5))])\n",
    "\n",
    "trainset = torchvision.datasets.CIFAR10(root='./data', train=True, download=True, transform=transform)\n",
    "trainloader = torch.utils.data.DataLoader(trainset, batch_size=32,shuffle=True, num_workers=6)\n",
    "\n",
    "testset = torchvision.datasets.CIFAR10(root='./data', train=False, download=True, transform=transform)\n",
    "testloader = torch.utils.data.DataLoader(testset, batch_size=16, shuffle=False, num_workers=6)\n",
    "\n",
    "#To print the labels\n",
    "print(trainloader.dataset.classes)\n",
    "\n",
    "\n"
   ]
  },
  {
   "cell_type": "markdown",
   "metadata": {
    "colab_type": "text",
    "id": "3Wof1CqxFeDd"
   },
   "source": [
    "### Importing and compiling the model"
   ]
  },
  {
   "cell_type": "code",
   "execution_count": 5,
   "metadata": {
    "colab": {
     "base_uri": "https://localhost:8080/",
     "height": 51
    },
    "colab_type": "code",
    "id": "qhRN2BAFFeDe",
    "outputId": "e56e90ca-1727-4629-9d7c-91b5881f5afe"
   },
   "outputs": [
    {
     "name": "stdout",
     "output_type": "stream",
     "text": [
      "Loaded pretrained weights for efficientnet-b7\n",
      "cuda\n"
     ]
    }
   ],
   "source": [
    "#Loading the pretrained Mobilenet model\n",
    "device = torch.device(\"cuda\" if torch.cuda.is_available() else \"cpu\")\n",
    "\n",
    "model = EfficientNet.from_pretrained('efficientnet-b7')\n",
    "\n",
    "\n",
    "#Attaching Softmax layer to get probabilities and compiling the model\n",
    "model.fc = nn.Sequential(nn.Linear(1280, 256), nn.ReLU(), nn.Dropout(0.2), nn.Linear(256, 10), nn.LogSoftmax(dim=1))\n",
    "criterion = nn.CrossEntropyLoss()\n",
    "optimizer = optim.Adam(model.parameters(), lr=0.001,amsgrad=True,weight_decay=0.000001)\n",
    "\n",
    "#Model to GPU\n",
    "model.to(device)\n",
    "print(device)"
   ]
  },
  {
   "cell_type": "markdown",
   "metadata": {
    "colab_type": "text",
    "id": "KjbHA_-8FeDj"
   },
   "source": [
    "### Training the network"
   ]
  },
  {
   "cell_type": "code",
   "execution_count": 5,
   "metadata": {
    "colab": {
     "base_uri": "https://localhost:8080/",
     "height": 1000
    },
    "colab_type": "code",
    "id": "jQ8p-CZmFeDk",
    "outputId": "f67b3b87-7c6e-4578-b080-4835da58dee0"
   },
   "outputs": [
    {
     "name": "stdout",
     "output_type": "stream",
     "text": [
      "CPU times: user 3 µs, sys: 1e+03 ns, total: 4 µs\n",
      "Wall time: 9.06 µs\n",
      "[1     1] loss: 0.006\n",
      "[1   101] loss: 0.136\n",
      "[1   201] loss: 0.085\n",
      "[1   301] loss: 0.077\n",
      "[1   401] loss: 0.075\n",
      "[1   501] loss: 0.066\n",
      "[1   601] loss: 0.062\n",
      "[1   701] loss: 0.055\n",
      "[1   801] loss: 0.054\n",
      "[1   901] loss: 0.053\n",
      "[1  1001] loss: 0.049\n",
      "[1  1101] loss: 0.047\n",
      "[1  1201] loss: 0.044\n",
      "[1  1301] loss: 0.046\n",
      "[1  1401] loss: 0.043\n",
      "[1  1501] loss: 0.041\n",
      "[2     1] loss: 0.025\n",
      "[2   101] loss: 0.037\n",
      "[2   201] loss: 0.037\n",
      "[2   301] loss: 0.033\n",
      "[2   401] loss: 0.034\n",
      "[2   501] loss: 0.034\n",
      "[2   601] loss: 0.035\n",
      "[2   701] loss: 0.034\n",
      "[2   801] loss: 0.034\n",
      "[2   901] loss: 0.032\n",
      "[2  1001] loss: 0.032\n",
      "[2  1101] loss: 0.032\n",
      "[2  1201] loss: 0.030\n",
      "[2  1301] loss: 0.032\n",
      "[2  1401] loss: 0.031\n",
      "[2  1501] loss: 0.029\n",
      "[3     1] loss: 0.018\n",
      "[3   101] loss: 0.023\n",
      "[3   201] loss: 0.025\n",
      "[3   301] loss: 0.021\n",
      "[3   401] loss: 0.023\n",
      "[3   501] loss: 0.022\n",
      "[3   601] loss: 0.023\n",
      "[3   701] loss: 0.021\n",
      "[3   801] loss: 0.023\n",
      "[3   901] loss: 0.023\n",
      "[3  1001] loss: 0.022\n",
      "[3  1101] loss: 0.021\n",
      "[3  1201] loss: 0.021\n",
      "[3  1301] loss: 0.022\n",
      "[3  1401] loss: 0.024\n",
      "[3  1501] loss: 0.023\n",
      "[4     1] loss: 0.014\n",
      "[4   101] loss: 0.015\n",
      "[4   201] loss: 0.017\n",
      "[4   301] loss: 0.016\n",
      "[4   401] loss: 0.016\n",
      "[4   501] loss: 0.015\n",
      "[4   601] loss: 0.017\n",
      "[4   701] loss: 0.015\n",
      "[4   801] loss: 0.017\n",
      "[4   901] loss: 0.015\n",
      "[4  1001] loss: 0.017\n",
      "[4  1101] loss: 0.018\n",
      "[4  1201] loss: 0.016\n",
      "[4  1301] loss: 0.017\n",
      "[4  1401] loss: 0.016\n",
      "[4  1501] loss: 0.019\n",
      "[5     1] loss: 0.012\n",
      "[5   101] loss: 0.012\n",
      "[5   201] loss: 0.012\n",
      "[5   301] loss: 0.010\n",
      "[5   401] loss: 0.012\n",
      "[5   501] loss: 0.012\n",
      "[5   601] loss: 0.013\n",
      "[5   701] loss: 0.012\n",
      "[5   801] loss: 0.012\n",
      "[5   901] loss: 0.013\n",
      "[5  1001] loss: 0.013\n",
      "[5  1101] loss: 0.011\n",
      "[5  1201] loss: 0.014\n",
      "[5  1301] loss: 0.013\n",
      "[5  1401] loss: 0.012\n",
      "[5  1501] loss: 0.012\n",
      "[6     1] loss: 0.008\n",
      "[6   101] loss: 0.008\n",
      "[6   201] loss: 0.008\n",
      "[6   301] loss: 0.008\n",
      "[6   401] loss: 0.008\n",
      "[6   501] loss: 0.008\n",
      "[6   601] loss: 0.009\n",
      "[6   701] loss: 0.010\n",
      "[6   801] loss: 0.010\n",
      "[6   901] loss: 0.009\n",
      "[6  1001] loss: 0.009\n",
      "[6  1101] loss: 0.010\n",
      "[6  1201] loss: 0.012\n",
      "[6  1301] loss: 0.010\n",
      "[6  1401] loss: 0.010\n",
      "[6  1501] loss: 0.011\n",
      "[7     1] loss: 0.006\n",
      "[7   101] loss: 0.006\n",
      "[7   201] loss: 0.006\n",
      "[7   301] loss: 0.007\n",
      "[7   401] loss: 0.007\n",
      "[7   501] loss: 0.007\n",
      "[7   601] loss: 0.007\n",
      "[7   701] loss: 0.008\n",
      "[7   801] loss: 0.007\n",
      "[7   901] loss: 0.009\n",
      "[7  1001] loss: 0.007\n",
      "[7  1101] loss: 0.007\n",
      "[7  1201] loss: 0.008\n",
      "[7  1301] loss: 0.009\n",
      "[7  1401] loss: 0.008\n",
      "[7  1501] loss: 0.008\n",
      "[8     1] loss: 0.005\n",
      "[8   101] loss: 0.005\n",
      "[8   201] loss: 0.005\n",
      "[8   301] loss: 0.006\n",
      "[8   401] loss: 0.005\n",
      "[8   501] loss: 0.005\n",
      "[8   601] loss: 0.006\n",
      "[8   701] loss: 0.006\n",
      "[8   801] loss: 0.007\n",
      "[8   901] loss: 0.006\n",
      "[8  1001] loss: 0.006\n",
      "[8  1101] loss: 0.007\n",
      "[8  1201] loss: 0.007\n",
      "[8  1301] loss: 0.007\n",
      "[8  1401] loss: 0.007\n",
      "[8  1501] loss: 0.008\n",
      "[9     1] loss: 0.004\n",
      "[9   101] loss: 0.004\n",
      "[9   201] loss: 0.005\n",
      "[9   301] loss: 0.005\n",
      "[9   401] loss: 0.005\n",
      "[9   501] loss: 0.006\n",
      "[9   601] loss: 0.006\n",
      "[9   701] loss: 0.005\n",
      "[9   801] loss: 0.006\n",
      "[9   901] loss: 0.006\n",
      "[9  1001] loss: 0.005\n",
      "[9  1101] loss: 0.005\n",
      "[9  1201] loss: 0.005\n",
      "[9  1301] loss: 0.006\n",
      "[9  1401] loss: 0.005\n",
      "[9  1501] loss: 0.005\n",
      "[10     1] loss: 0.003\n",
      "[10   101] loss: 0.003\n",
      "[10   201] loss: 0.004\n",
      "[10   301] loss: 0.004\n",
      "[10   401] loss: 0.004\n",
      "[10   501] loss: 0.003\n",
      "[10   601] loss: 0.005\n",
      "[10   701] loss: 0.004\n",
      "[10   801] loss: 0.005\n",
      "[10   901] loss: 0.004\n",
      "[10  1001] loss: 0.004\n",
      "[10  1101] loss: 0.005\n",
      "[10  1201] loss: 0.005\n",
      "[10  1301] loss: 0.005\n",
      "[10  1401] loss: 0.006\n",
      "[10  1501] loss: 0.005\n",
      "[11     1] loss: 0.004\n",
      "[11   101] loss: 0.005\n",
      "[11   201] loss: 0.004\n",
      "[11   301] loss: 0.003\n",
      "[11   401] loss: 0.005\n",
      "[11   501] loss: 0.003\n",
      "[11   601] loss: 0.004\n",
      "[11   701] loss: 0.004\n",
      "[11   801] loss: 0.004\n",
      "[11   901] loss: 0.005\n",
      "[11  1001] loss: 0.005\n",
      "[11  1101] loss: 0.005\n",
      "[11  1201] loss: 0.005\n",
      "[11  1301] loss: 0.004\n",
      "[11  1401] loss: 0.004\n",
      "[11  1501] loss: 0.005\n",
      "[12     1] loss: 0.004\n",
      "[12   101] loss: 0.003\n",
      "[12   201] loss: 0.003\n",
      "[12   301] loss: 0.003\n",
      "[12   401] loss: 0.004\n",
      "[12   501] loss: 0.003\n",
      "[12   601] loss: 0.003\n",
      "[12   701] loss: 0.004\n",
      "[12   801] loss: 0.003\n",
      "[12   901] loss: 0.003\n",
      "[12  1001] loss: 0.003\n",
      "[12  1101] loss: 0.005\n",
      "[12  1201] loss: 0.003\n",
      "[12  1301] loss: 0.004\n",
      "[12  1401] loss: 0.004\n",
      "[12  1501] loss: 0.004\n",
      "[13     1] loss: 0.003\n",
      "[13   101] loss: 0.002\n",
      "[13   201] loss: 0.003\n",
      "[13   301] loss: 0.002\n",
      "[13   401] loss: 0.003\n",
      "[13   501] loss: 0.003\n",
      "[13   601] loss: 0.002\n",
      "[13   701] loss: 0.003\n",
      "[13   801] loss: 0.003\n",
      "[13   901] loss: 0.003\n",
      "[13  1001] loss: 0.002\n",
      "[13  1101] loss: 0.003\n",
      "[13  1201] loss: 0.003\n",
      "[13  1301] loss: 0.004\n",
      "[13  1401] loss: 0.003\n",
      "[13  1501] loss: 0.003\n",
      "[14     1] loss: 0.002\n",
      "[14   101] loss: 0.002\n",
      "[14   201] loss: 0.002\n",
      "[14   301] loss: 0.002\n",
      "[14   401] loss: 0.002\n",
      "[14   501] loss: 0.002\n",
      "[14   601] loss: 0.003\n",
      "[14   701] loss: 0.003\n",
      "[14   801] loss: 0.003\n",
      "[14   901] loss: 0.004\n",
      "[14  1001] loss: 0.003\n",
      "[14  1101] loss: 0.003\n",
      "[14  1201] loss: 0.003\n",
      "[14  1301] loss: 0.003\n",
      "[14  1401] loss: 0.003\n",
      "[14  1501] loss: 0.004\n",
      "[15     1] loss: 0.002\n",
      "[15   101] loss: 0.002\n",
      "[15   201] loss: 0.002\n",
      "[15   301] loss: 0.002\n",
      "[15   401] loss: 0.001\n",
      "[15   501] loss: 0.002\n",
      "[15   601] loss: 0.003\n",
      "[15   701] loss: 0.003\n",
      "[15   801] loss: 0.003\n",
      "[15   901] loss: 0.002\n",
      "[15  1001] loss: 0.003\n",
      "[15  1101] loss: 0.002\n",
      "[15  1201] loss: 0.003\n",
      "[15  1301] loss: 0.004\n",
      "[15  1401] loss: 0.003\n",
      "[15  1501] loss: 0.002\n"
     ]
    }
   ],
   "source": [
    "import time\n",
    "\n",
    "running_loss=0\n",
    "get_ipython().run_line_magic('time', '')\n",
    "num_epochs=15\n",
    "for epoch in range(1,num_epochs+1):\n",
    "    \n",
    "    for i,data in enumerate(trainloader,0):\n",
    "        inputs,labels=data[0].to(device),data[1].to(device)\n",
    "        optimizer.zero_grad()\n",
    "\n",
    "        output=model(inputs)\n",
    "        loss = criterion(output, labels)\n",
    "        loss.backward()\n",
    "        optimizer.step()\n",
    "        running_loss += loss.item()\n",
    "        if i % 100 == 0:    # print every 100 mini-batches\n",
    "            print('[%d %5d] loss: %.3f' % (epoch, i + 1, running_loss / 2000))\n",
    "            running_loss = 0.0\n",
    "    \n",
    "\n",
    "\n"
   ]
  },
  {
   "cell_type": "markdown",
   "metadata": {
    "colab_type": "text",
    "id": "bepw_qYeFeDp"
   },
   "source": [
    "### Testing the network"
   ]
  },
  {
   "cell_type": "code",
   "execution_count": 6,
   "metadata": {
    "colab": {
     "base_uri": "https://localhost:8080/",
     "height": 51
    },
    "colab_type": "code",
    "id": "MPiGpX8WFeDq",
    "outputId": "2f8d936a-2138-428a-9bfc-8e49518a721c"
   },
   "outputs": [
    {
     "name": "stdout",
     "output_type": "stream",
     "text": [
      "Accuracy of the network on the 10000 test images: 84.960000 %\n",
      "Latency 0.006552\n"
     ]
    }
   ],
   "source": [
    "correct=0\n",
    "total=0\n",
    "start_time,end_time=0,0\n",
    "\n",
    "with torch.no_grad():\n",
    "    start_time=time.time()\n",
    "    for data in testloader:\n",
    "        \n",
    "        images,labels=data[0].to(device),data[1].to(device)\n",
    "        prediction=model(images)\n",
    "        model.to(device)\n",
    "        _,predicted=torch.max(prediction.data,1)\n",
    "        total=total+labels.size(0)\n",
    "        correct += (predicted == labels).sum().item()\n",
    "    end_time=time.time()\n",
    "\n",
    "#Accuracy of the model\n",
    "accuracy=(100*correct/total)\n",
    "print('Accuracy of the network on the 10000 test images: %f %%' % accuracy)\n",
    "\n",
    "#Latency of the model\n",
    "latency=(end_time-start_time)/10000\n",
    "print(\"Latency %f\" % latency)\n",
    "\n"
   ]
  },
  {
   "cell_type": "markdown",
   "metadata": {
    "colab_type": "text",
    "id": "XOnln-GRFeDu"
   },
   "source": [
    "### To save the model"
   ]
  },
  {
   "cell_type": "code",
   "execution_count": 7,
   "metadata": {
    "colab": {},
    "colab_type": "code",
    "id": "xHzsW6OQFeDv"
   },
   "outputs": [],
   "source": [
    "PATH = 'models/efficientnet.pth'\n",
    "torch.save(model.state_dict(), PATH)\n"
   ]
  },
  {
   "cell_type": "markdown",
   "metadata": {
    "colab_type": "text",
    "id": "y_X8J_M4FeD0"
   },
   "source": [
    "### Display a few testing results"
   ]
  },
  {
   "cell_type": "code",
   "execution_count": null,
   "metadata": {
    "colab": {
     "base_uri": "https://localhost:8080/",
     "height": 191
    },
    "colab_type": "code",
    "id": "PmNzdZR0FeD1",
    "outputId": "8aca39c7-12bd-47fe-90aa-df313814c08a"
   },
   "outputs": [
    {
     "name": "stderr",
     "output_type": "stream",
     "text": [
      "Clipping input data to the valid range for imshow with RGB data ([0..1] for floats or [0..255] for integers).\n"
     ]
    },
    {
     "data": {
      "image/png": "[encoded data removed]",
      "text/plain": [
       "<Figure size 432x288 with 1 Axes>"
      ]
     },
     "metadata": {
      "needs_background": "light"
     },
     "output_type": "display_data"
    }
   ],
   "source": [
    "PATH = 'models/efficientnet.pth'\n",
    "\n",
    "import numpy as np\n",
    "classes=('airplane', 'automobile', 'bird', 'cat','deer', 'dog', 'frog', 'horse', 'ship', 'truck')\n",
    "import matplotlib.pyplot as plt\n",
    "\n",
    "\n",
    "def imshow(img):\n",
    "#     img = img / 2 + 0.5     # unnormalize\n",
    "    npimg = img.numpy()\n",
    "    plt.imshow(np.transpose(npimg, (1, 2, 0)))\n",
    "    plt.show()\n",
    "\n",
    "\n",
    "dataiter = iter(testloader)\n",
    "images,labels=dataiter.next()\n",
    "\n",
    "imshow(torchvision.utils.make_grid(images))\n",
    "# Loading model\n",
    "model.load_state_dict(torch.load(PATH))\n",
    "model.to('cpu')\n",
    "outputs=model(images)\n",
    "\n",
    "_, predicted = torch.max(outputs, 1)\n",
    "print('Ground Truth: ', ' '.join('%4s' % classes[labels[j]] for j in range(16)))\n",
    "print('Prediction: ', ' '.join('%4s' % classes[predicted[j]] for j in range(16)))"
   ]
  }
 ],
 "metadata": {
  "accelerator": "GPU",
  "colab": {
   "collapsed_sections": [],
   "name": "Image_Classification_Efficientnet.ipynb",
   "provenance": []
  },
  "kernelspec": {
   "display_name": "Python 3",
   "language": "python",
   "name": "python3"
  },
  "language_info": {
   "codemirror_mode": {
    "name": "ipython",
    "version": 3
   },
   "file_extension": ".py",
   "mimetype": "text/x-python",
   "name": "python",
   "nbconvert_exporter": "python",
   "pygments_lexer": "ipython3",
   "version": "3.7.6"
  }
 },
 "nbformat": 4,
 "nbformat_minor": 1
}
